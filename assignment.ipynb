{
 "cells": [
  {
   "cell_type": "markdown",
   "id": "6d1acbe0-5b5d-4b4d-842f-dfef4c03d9d7",
   "metadata": {},
   "source": [
    "Q1. Explain with an example each when to use a for loop and a while loop."
   ]
  },
  {
   "cell_type": "raw",
   "id": "1f3657ca-a557-4c02-8bc7-46553f0379f2",
   "metadata": {},
   "source": [
    "ans. both the loops are used to iterating the value-\n",
    "     in for loop we dont need to put condition whereas in \n",
    "     while loop you have to put condition for the                termination of loop."
   ]
  },
  {
   "cell_type": "raw",
   "id": "6ca0962f-7103-42bc-a50c-6ada46228d95",
   "metadata": {},
   "source": [
    "example(for loop)-"
   ]
  },
  {
   "cell_type": "code",
   "execution_count": 1,
   "id": "41d32823-fd59-4883-9819-3255aafe084d",
   "metadata": {},
   "outputs": [
    {
     "name": "stdout",
     "output_type": "stream",
     "text": [
      "0\n",
      "1\n",
      "2\n",
      "3\n",
      "4\n"
     ]
    }
   ],
   "source": [
    "for i in range(5):\n",
    "    print(i)"
   ]
  },
  {
   "cell_type": "raw",
   "id": "39c0a406-b60f-4b55-a6ec-4362ac604969",
   "metadata": {},
   "source": [
    "example(while loop)-"
   ]
  },
  {
   "cell_type": "code",
   "execution_count": 4,
   "id": "5ff00c85-6364-4106-9545-5b1453cfea56",
   "metadata": {},
   "outputs": [
    {
     "name": "stdin",
     "output_type": "stream",
     "text": [
      "enter the number of terms 7\n"
     ]
    },
    {
     "name": "stdout",
     "output_type": "stream",
     "text": [
      "28\n"
     ]
    }
   ],
   "source": [
    "n=int(input(\"enter the number of terms\"))\n",
    "sum=0\n",
    "counter=1\n",
    "while counter<=n:\n",
    "      sum=sum+counter\n",
    "      counter=counter+1\n",
    "print(sum)\n",
    "      "
   ]
  },
  {
   "cell_type": "raw",
   "id": "568817a1-49c7-4946-8f18-b90971845e8c",
   "metadata": {},
   "source": [
    "Q2. Write a python program to print the sum and product of the first 10 natural numbers using for\n",
    "and while loop.\n",
    "ans-"
   ]
  },
  {
   "cell_type": "code",
   "execution_count": 12,
   "id": "fb4bd142-9dba-4659-b8a7-4e42805f7543",
   "metadata": {},
   "outputs": [
    {
     "name": "stdout",
     "output_type": "stream",
     "text": [
      "55\n",
      "3628800\n"
     ]
    }
   ],
   "source": [
    "#for loop\n",
    "sum=0\n",
    "product=1\n",
    "for i in range(1,11):\n",
    "    sum=sum+i\n",
    "    product=product *i\n",
    "print(sum)\n",
    "print(product)\n",
    "    "
   ]
  },
  {
   "cell_type": "code",
   "execution_count": 4,
   "id": "8ef9cb38-ac58-4ffa-a83e-a12179de0b35",
   "metadata": {},
   "outputs": [
    {
     "name": "stdout",
     "output_type": "stream",
     "text": [
      "55\n",
      "3628800\n"
     ]
    }
   ],
   "source": [
    "#while loop\n",
    "sum=0\n",
    "product=1\n",
    "counter=1\n",
    "while counter<11:\n",
    "    sum=sum+counter\n",
    "    product=product*counter\n",
    "    counter=counter+1\n",
    "print(sum)\n",
    "print(product)"
   ]
  },
  {
   "cell_type": "raw",
   "id": "cfc821ee-ca3b-4ed6-9e64-533d4a2992d6",
   "metadata": {},
   "source": [
    "Q3. Create a python program to compute the electricity bill for a household.\n",
    "The per-unit charges in rupees are as follows: For the first 100 units, the user will be charged Rs. 4.5 per\n",
    "unit, for the next 100 units, the user will be charged Rs. 6 per unit, and for the next 100 units, the user will\n",
    "be charged Rs. 10 per unit, After 300 units and above the user will be charged Rs. 20 per unit.\n",
    "You are required to take the units of electricity consumed in a month from the user as input.\n",
    "Your program must pass this test case: when the unit of electricity consumed by the user in a month is\n",
    "310, the total electricity bill should be 2250.\n",
    "ans-"
   ]
  },
  {
   "cell_type": "code",
   "execution_count": 3,
   "id": "8a2c57e5-06e7-4a4c-9648-a2af7cd5f1f1",
   "metadata": {},
   "outputs": [
    {
     "name": "stdin",
     "output_type": "stream",
     "text": [
      "enter the consumed unit 310\n"
     ]
    },
    {
     "name": "stdout",
     "output_type": "stream",
     "text": [
      "total electricity bill is  2250\n"
     ]
    }
   ],
   "source": [
    "unit=int(input(\"enter the consumed unit\"))\n",
    "if unit<=100:\n",
    "         bill=unit*4.5\n",
    "elif unit>100 and unit<=200:\n",
    "         bill=450+((unit-100)*6)\n",
    "elif unit>200 and unit<=300:\n",
    "         bill=450+600+((unit-200)*10)\n",
    "else:\n",
    "         bill=450+600+1000+((unit-300)*20)\n",
    "print(\"total electricity bill is \",bill)\n"
   ]
  },
  {
   "cell_type": "raw",
   "id": "cb2bf863-5b81-4769-865c-6cd9c185a5e6",
   "metadata": {},
   "source": [
    "Q4. Create a list of numbers from 1 to 100. Use for loop and while loop to calculate the cube of each\n",
    "number and if the cube of that number is divisible by 4 or 5 then append that number in a list and print\n",
    "that list.\n",
    "ans-"
   ]
  },
  {
   "cell_type": "code",
   "execution_count": 51,
   "id": "0d71f15f-08a7-49b9-8117-3d12b44c6ff4",
   "metadata": {},
   "outputs": [
    {
     "name": "stdout",
     "output_type": "stream",
     "text": [
      "[8, 64, 125, 216, 512, 1000, 1728, 2744, 3375, 4096, 5832, 8000, 10648, 13824, 15625, 17576, 21952, 27000, 32768, 39304, 42875, 46656, 54872, 64000, 74088, 85184, 91125, 97336, 110592, 125000, 140608, 157464, 166375, 175616, 195112, 216000, 238328, 262144, 274625, 287496, 314432, 343000, 373248, 405224, 421875, 438976, 474552, 512000, 551368, 592704, 614125, 636056, 681472, 729000, 778688, 830584, 857375, 884736, 941192, 1000000]\n"
     ]
    }
   ],
   "source": [
    "l=[]\n",
    "l1=[]\n",
    "for  i in range(1,101):\n",
    "    l.append(i**3)\n",
    "for j in l:\n",
    "    if j%4==0 or j%5==0:\n",
    "        l1.append(j)\n",
    "print(l1)\n",
    "        "
   ]
  },
  {
   "cell_type": "code",
   "execution_count": 10,
   "id": "d208f89e-2fcd-49bc-9a9d-8c7cae145dfc",
   "metadata": {},
   "outputs": [
    {
     "name": "stdout",
     "output_type": "stream",
     "text": [
      "[8, 64, 125, 216, 512, 1000, 1728, 2744, 3375, 4096, 5832, 8000, 10648, 13824, 15625, 17576, 21952, 27000, 32768, 39304, 42875, 46656, 54872, 64000, 74088, 85184, 91125, 97336, 110592, 125000, 140608, 157464, 166375, 175616, 195112, 216000, 238328, 262144, 274625, 287496, 314432, 343000, 373248, 405224, 421875, 438976, 474552, 512000, 551368, 592704, 614125, 636056, 681472, 729000, 778688, 830584, 857375, 884736, 941192, 1000000]\n"
     ]
    }
   ],
   "source": [
    "l=[]\n",
    "l1=[]\n",
    "n=1\n",
    "while n<=100:\n",
    "    cube=n**3\n",
    "    l.append(cube)\n",
    "    if cube%4==0 or cube%5==0:\n",
    "        l1.append(cube)\n",
    "    n=n+1\n",
    "print(l1)\n"
   ]
  },
  {
   "cell_type": "raw",
   "id": "d8fa3a46-1e49-41f1-adda-24ec9da3ae38",
   "metadata": {},
   "source": [
    "Q5. Write a program to filter count vowels in the below-given string.\n",
    "string = \"I want to become a data scientist\"\n",
    "ans-"
   ]
  },
  {
   "cell_type": "code",
   "execution_count": 56,
   "id": "3e4ff764-ce8a-47f5-914a-8684e0ed42ef",
   "metadata": {},
   "outputs": [
    {
     "name": "stdout",
     "output_type": "stream",
     "text": [
      "12\n"
     ]
    }
   ],
   "source": [
    "s=\"i want to become a data scientist\"\n",
    "s.upper()\n",
    "count=0\n",
    "for i in s:\n",
    "    if i=='a' or i=='e' or i=='i' or i=='o' or i=='u':\n",
    "        count=count +1\n",
    "print(count)"
   ]
  }
 ],
 "metadata": {
  "kernelspec": {
   "display_name": "Python 3 (ipykernel)",
   "language": "python",
   "name": "python3"
  },
  "language_info": {
   "codemirror_mode": {
    "name": "ipython",
    "version": 3
   },
   "file_extension": ".py",
   "mimetype": "text/x-python",
   "name": "python",
   "nbconvert_exporter": "python",
   "pygments_lexer": "ipython3",
   "version": "3.10.8"
  }
 },
 "nbformat": 4,
 "nbformat_minor": 5
}
